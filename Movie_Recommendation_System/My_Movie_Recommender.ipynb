{
 "cells": [
  {
   "cell_type": "markdown",
   "id": "c1bfcbab",
   "metadata": {},
   "source": [
    "<h1><center>My Movie Recommender<h1>"
   ]
  },
  {
   "cell_type": "code",
   "execution_count": 2,
   "id": "fa7ccb67",
   "metadata": {},
   "outputs": [],
   "source": [
    "## Importing all the necessary libraries\n",
    "import pandas as pd  # Data storage and manipulation libraries \n",
    "import numpy as np   # Linear Algebra\n",
    "import matplotlib.pyplot as plt # Data Visualization"
   ]
  },
  {
   "cell_type": "markdown",
   "id": "2bd1e849",
   "metadata": {},
   "source": [
    "# Loading the data"
   ]
  },
  {
   "cell_type": "code",
   "execution_count": null,
   "id": "e9901153",
   "metadata": {},
   "outputs": [],
   "source": [
    "movie_data = "
   ]
  }
 ],
 "metadata": {
  "kernelspec": {
   "display_name": "Python 3 (ipykernel)",
   "language": "python",
   "name": "python3"
  },
  "language_info": {
   "codemirror_mode": {
    "name": "ipython",
    "version": 3
   },
   "file_extension": ".py",
   "mimetype": "text/x-python",
   "name": "python",
   "nbconvert_exporter": "python",
   "pygments_lexer": "ipython3",
   "version": "3.9.13"
  }
 },
 "nbformat": 4,
 "nbformat_minor": 5
}
